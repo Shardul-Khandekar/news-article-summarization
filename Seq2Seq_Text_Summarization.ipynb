{
  "cells": [
    {
      "cell_type": "markdown",
      "metadata": {
        "id": "Ujj2kVAQRcIS"
      },
      "source": [
        "<p>How is Seq2Seq better than RNN?</p>"
      ]
    },
    {
      "cell_type": "markdown",
      "metadata": {
        "id": "FaGhUPax6Wav"
      },
      "source": [
        "<p>In this model, an encoder accepts the actual text and summary, trains the model to create an encoded representation, and sends it to a decoder which decodes the encoded representation into a reliable summary.</p>"
      ]
    },
    {
      "cell_type": "code",
      "execution_count": null,
      "metadata": {
        "colab": {
          "base_uri": "https://localhost:8080/"
        },
        "id": "keLu73XDCS_L",
        "outputId": "efb3e0ae-dcbc-4596-83c7-31c54b517f39"
      },
      "outputs": [
        {
          "name": "stdout",
          "output_type": "stream",
          "text": [
            "Mounted at /content/drive\n"
          ]
        }
      ],
      "source": [
        "from google.colab import drive\n",
        "\n",
        "drive.mount('/content/drive')"
      ]
    },
    {
      "cell_type": "code",
      "execution_count": null,
      "metadata": {
        "id": "wvAw7GOIQhrY"
      },
      "outputs": [],
      "source": [
        "import pandas as pd"
      ]
    },
    {
      "cell_type": "code",
      "execution_count": null,
      "metadata": {
        "id": "2HkKKuAKCYkr"
      },
      "outputs": [],
      "source": [
        "summary = pd.read_csv('/content/drive/MyDrive/Colab Notebooks/Data/News Summary/news_summary.csv', encoding='iso-8859-1')\n",
        "raw = pd.read_csv('/content/drive/MyDrive/Colab Notebooks/Data/News Summary/news_summary_more.csv', encoding='iso-8859-1')"
      ]
    },
    {
      "cell_type": "code",
      "execution_count": null,
      "metadata": {
        "colab": {
          "base_uri": "https://localhost:8080/"
        },
        "collapsed": true,
        "id": "FLB_flgTDREw",
        "outputId": "0e38f836-ae53-41f1-a38a-82830a1b25e2"
      },
      "outputs": [
        {
          "name": "stdout",
          "output_type": "stream",
          "text": [
            "               author                  date  \\\n",
            "0        Chhavi Tyagi  03 Aug 2017,Thursday   \n",
            "1         Daisy Mowke  03 Aug 2017,Thursday   \n",
            "2      Arshiya Chopra  03 Aug 2017,Thursday   \n",
            "3       Sumedha Sehra  03 Aug 2017,Thursday   \n",
            "4  Aarushi Maheshwari  03 Aug 2017,Thursday   \n",
            "\n",
            "                                           headlines  \\\n",
            "0  Daman & Diu revokes mandatory Rakshabandhan in...   \n",
            "1  Malaika slams user who trolled her for 'divorc...   \n",
            "2  'Virgin' now corrected to 'Unmarried' in IGIMS...   \n",
            "3  Aaj aapne pakad liya: LeT man Dujana before be...   \n",
            "4  Hotel staff to get training to spot signs of s...   \n",
            "\n",
            "                                           read_more  \\\n",
            "0  http://www.hindustantimes.com/india-news/raksh...   \n",
            "1  http://www.hindustantimes.com/bollywood/malaik...   \n",
            "2  http://www.hindustantimes.com/patna/bihar-igim...   \n",
            "3  http://indiatoday.intoday.in/story/abu-dujana-...   \n",
            "4  http://indiatoday.intoday.in/story/sex-traffic...   \n",
            "\n",
            "                                                text  \\\n",
            "0  The Administration of Union Territory Daman an...   \n",
            "1  Malaika Arora slammed an Instagram user who tr...   \n",
            "2  The Indira Gandhi Institute of Medical Science...   \n",
            "3  Lashkar-e-Taiba's Kashmir commander Abu Dujana...   \n",
            "4  Hotels in Maharashtra will train their staff t...   \n",
            "\n",
            "                                               ctext  \n",
            "0  The Daman and Diu administration on Wednesday ...  \n",
            "1  From her special numbers to TV?appearances, Bo...  \n",
            "2  The Indira Gandhi Institute of Medical Science...  \n",
            "3  Lashkar-e-Taiba's Kashmir commander Abu Dujana...  \n",
            "4  Hotels in Mumbai and other Indian cities are t...  \n",
            "Summary shape: (4514, 6)\n"
          ]
        }
      ],
      "source": [
        "print(summary.head())\n",
        "print(\"Summary shape:\", summary.shape)"
      ]
    },
    {
      "cell_type": "code",
      "execution_count": null,
      "metadata": {
        "id": "m3IDkl68DEPx"
      },
      "outputs": [],
      "source": [
        "df1 = raw.iloc[: ,0:2].copy()\n",
        "df2 = summary.iloc[: ,0:6].copy()\n",
        "\n",
        "# Extract columns from df2, create a new col called text and concatenate values with \" \" as separation\n",
        "df2['text'] = df2['author'].str.cat(df2['date'].str.cat(df2['read_more'].str.cat(df2['text'].str.cat(df2['ctext'], sep=' '), sep=' '), sep=' '), sep=' ')\n",
        "\n",
        "df = pd.DataFrame()\n",
        "df['text'] = pd.concat([df1['text'], df2['text']], ignore_index=True)\n",
        "df['summary'] = pd.concat([df1['headlines'], df2['headlines']], ignore_index=True)"
      ]
    },
    {
      "cell_type": "code",
      "execution_count": null,
      "metadata": {
        "colab": {
          "base_uri": "https://localhost:8080/"
        },
        "id": "h2lRP9zSE78d",
        "outputId": "d933101c-48fe-413b-9a4e-60b7011fea53"
      },
      "outputs": [
        {
          "name": "stdout",
          "output_type": "stream",
          "text": [
            "                                                text  \\\n",
            "0  Saurav Kant, an alumnus of upGrad and IIIT-B's...   \n",
            "1  Kunal Shah's credit card bill payment platform...   \n",
            "2  New Zealand defeated India by 8 wickets in the...   \n",
            "3  With Aegon Life iTerm Insurance plan, customer...   \n",
            "4  Speaking about the sexual harassment allegatio...   \n",
            "\n",
            "                                             summary  \n",
            "0  upGrad learner switches to career in ML & Al w...  \n",
            "1  Delhi techie wins free food from Swiggy for on...  \n",
            "2  New Zealand end Rohit Sharma-led India's 12-ma...  \n",
            "3  Aegon life iTerm insurance plan helps customer...  \n",
            "4  Have known Hirani for yrs, what if MeToo claim...  \n",
            "DF shape: (102915, 2)\n"
          ]
        }
      ],
      "source": [
        "print(df.head())\n",
        "print(\"DF shape:\", df.shape)"
      ]
    },
    {
      "cell_type": "markdown",
      "metadata": {
        "id": "ClO5lJbMboUX"
      },
      "source": [
        "How to find all non-alphabetic characters?"
      ]
    },
    {
      "cell_type": "code",
      "execution_count": null,
      "metadata": {
        "id": "AUe9xwTzE_V7"
      },
      "outputs": [],
      "source": [
        "import re\n",
        "\n",
        "def clean_text(column):\n",
        "\n",
        "  for row in column:\n",
        "    row = re.sub(\"(__+)\", \" \", str(row)).lower()\n",
        "    row = re.sub(\"(--+)\", \" \", str(row)).lower()\n",
        "    row = re.sub(\"(~~+)\", \" \", str(row)).lower()\n",
        "    row = re.sub(\"(\\+\\++)\", \" \", str(row)).lower()\n",
        "    row = re.sub(\"(\\.\\.+)\", \" \", str(row)).lower()\n",
        "\n",
        "    # Remove the characters - <>()|&©ø\"',;?~*!\n",
        "    row = re.sub(r\"[<>()|&©ø\\[\\]\\'\\\",;?~*!]\", \" \", str(row)).lower()\n",
        "    row = re.sub(\"(mailto:)\", \" \", str(row)).lower()\n",
        "    row = re.sub(r\"(\\\\x9\\d)\", \" \", str(row)).lower()\n",
        "    row = re.sub(\"([iI][nN][cC]\\d+)\", \"INC_NUM\", str(row)).lower()\n",
        "    row = re.sub(\"([cC][mM]\\d+)|([cC][hH][gG]\\d+)\", \"CM_NUM\", str(row)).lower()\n",
        "\n",
        "    # Remove punctuations at the end of a word\n",
        "    row = re.sub(\"(\\.\\s+)\", \" \", str(row)).lower()\n",
        "    row = re.sub(\"(\\-\\s+)\", \" \", str(row)).lower()\n",
        "    row = re.sub(\"(\\:\\s+)\", \" \", str(row)).lower()\n",
        "\n",
        "    try:\n",
        "      url = re.search(r\"((https*:\\/*)([^\\/\\s]+))(.[^\\s]+)\", str(row))\n",
        "      repl_url = url.group(3)\n",
        "      row = re.sub(r\"((https*:\\/*)([^\\/\\s]+))(.[^\\s]+)\", repl_url, str(row))\n",
        "    except:\n",
        "      pass\n",
        "\n",
        "    row = re.sub(\"(\\s+)\", \" \", str(row)).lower()\n",
        "    row = re.sub(\"(\\s+.\\s+)\", \" \", str(row)).lower()\n",
        "\n",
        "    yield row"
      ]
    },
    {
      "cell_type": "code",
      "execution_count": null,
      "metadata": {
        "id": "6A9Re4NPfMc3"
      },
      "outputs": [],
      "source": [
        "processed_text = clean_text(df['text'][:50000])\n",
        "processed_summary = clean_text(df['summary'][:50000])"
      ]
    },
    {
      "cell_type": "code",
      "execution_count": null,
      "metadata": {
        "id": "6SP5JsAnfVsu"
      },
      "outputs": [],
      "source": [
        "# pipe() method provided by spacy ensures that everything is string data type\n",
        "import spacy\n",
        "from time import time\n",
        "\n",
        "nlp = spacy.load('en_core_web_sm', disable=['ner', 'parser'])\n",
        "# Process the text in batches since when processing texts one by one, each text\n",
        "# requires the NLP pipeline to be initialized, executed, and finalized separately"
      ]
    },
    {
      "cell_type": "code",
      "execution_count": null,
      "metadata": {
        "colab": {
          "background_save": true,
          "base_uri": "https://localhost:8080/"
        },
        "id": "7Zu7-1boi8re",
        "outputId": "be977016-04b4-4b84-a622-4714151d2336"
      },
      "outputs": [
        {
          "name": "stdout",
          "output_type": "stream",
          "text": [
            "Processed 6000 sentences.\n",
            "Processed 12000 sentences.\n",
            "Processed 18000 sentences.\n",
            "Processed 24000 sentences.\n",
            "Processed 30000 sentences.\n",
            "Processed 36000 sentences.\n",
            "Processed 42000 sentences.\n",
            "Processed 48000 sentences.\n",
            "50000\n"
          ]
        }
      ],
      "source": [
        "text = []\n",
        "for i, doc in enumerate(nlp.pipe(processed_text, batch_size=6000)):\n",
        "  text.append(str(doc))\n",
        "  if (i + 1) % 6000 == 0:\n",
        "    print(f'Processed {i + 1} sentences.')\n",
        "\n",
        "print(len(text))"
      ]
    },
    {
      "cell_type": "code",
      "execution_count": null,
      "metadata": {
        "colab": {
          "background_save": true
        },
        "id": "ahp1qOQcf4AM",
        "outputId": "4a5eb673-1538-4658-d690-5f89635dcad0"
      },
      "outputs": [
        {
          "name": "stdout",
          "output_type": "stream",
          "text": [
            "50000\n"
          ]
        }
      ],
      "source": [
        "summary = ['_START_ '+ str(doc) + ' _END_' for doc in nlp.pipe(processed_summary, batch_size=5000)]\n",
        "print(len(summary))"
      ]
    },
    {
      "cell_type": "code",
      "execution_count": null,
      "metadata": {
        "colab": {
          "background_save": true
        },
        "id": "dNdd-E32kVbO",
        "outputId": "fa01cb03-0b9c-43f2-a4ca-27d1cc05989a"
      },
      "outputs": [
        {
          "name": "stdout",
          "output_type": "stream",
          "text": [
            "(50000,)\n",
            "(50000,)\n"
          ]
        }
      ],
      "source": [
        "df_processed = pd.DataFrame()\n",
        "\n",
        "df_processed['cleaned_text'] = pd.Series(text)\n",
        "df_processed['cleaned_summary'] = pd.Series(summary)\n",
        "\n",
        "print(df_processed['cleaned_summary'].shape)\n",
        "print(df_processed['cleaned_text'].shape)"
      ]
    },
    {
      "cell_type": "code",
      "execution_count": null,
      "metadata": {
        "colab": {
          "background_save": true
        },
        "collapsed": true,
        "id": "-q02riErkimy",
        "outputId": "0ddc4cdc-a42b-4df6-dd78-480e41bd5c88"
      },
      "outputs": [
        {
          "data": {
            "image/png": "[encoded data removed]",
            "text/plain": [
              "<Figure size 640x480 with 2 Axes>"
            ]
          },
          "metadata": {},
          "output_type": "display_data"
        }
      ],
      "source": [
        "# Plot to determine the range of length of words where the maximum number of texts and summaries fall into\n",
        "import matplotlib.pyplot as plt\n",
        "\n",
        "text_count = []\n",
        "summary_count = []\n",
        "\n",
        "for row in df_processed['cleaned_text']:\n",
        "  text_count.append(len(row.split()))\n",
        "\n",
        "for row in df_processed['cleaned_summary']:\n",
        "  summary_count.append(len(row.split()))\n",
        "\n",
        "graph = pd.DataFrame()\n",
        "graph['text'] = text_count\n",
        "graph['summary'] = summary_count\n",
        "\n",
        "graph.hist(bins=5)\n",
        "plt.show()"
      ]
    },
    {
      "cell_type": "code",
      "execution_count": null,
      "metadata": {
        "colab": {
          "background_save": true
        },
        "id": "Yx6dh_FIlDTY",
        "outputId": "8c1ca984-b261-407e-ecbf-bc0d8875bdc6"
      },
      "outputs": [
        {
          "name": "stdout",
          "output_type": "stream",
          "text": [
            "1.0\n"
          ]
        }
      ],
      "source": [
        "# To find the range for text, consider a random range and check how many words fall into it\n",
        "count = 0\n",
        "for row in df_processed['cleaned_text']:\n",
        "  if len(row.split()) < 70:\n",
        "    count += 1\n",
        "\n",
        "print(count/len(df_processed['cleaned_text']))"
      ]
    },
    {
      "cell_type": "code",
      "execution_count": null,
      "metadata": {
        "colab": {
          "background_save": true
        },
        "id": "0lXwrhIgmBc_"
      },
      "outputs": [],
      "source": [
        "max_text_len = 70\n",
        "max_summary_len = 15"
      ]
    },
    {
      "cell_type": "markdown",
      "metadata": {
        "id": "_ToGm4x5mc2t"
      },
      "source": [
        "What if I dont want to define the max length, and let the model decide on its own?"
      ]
    },
    {
      "cell_type": "code",
      "execution_count": null,
      "metadata": {
        "colab": {
          "background_save": true
        },
        "id": "zNYsVkCimR-g",
        "outputId": "f9d66690-004b-411e-c753-91a0df6f290c"
      },
      "outputs": [
        {
          "data": {
            "application/vnd.google.colaboratory.intrinsic+json": {
              "summary": "{\n  \"name\": \"processed_df\",\n  \"rows\": 49798,\n  \"fields\": [\n    {\n      \"column\": \"text\",\n      \"properties\": {\n        \"dtype\": \"string\",\n        \"num_unique_values\": 49796,\n        \"samples\": [\n          \"uttar pradesh deputy cm keshav prasad maurya has said structure named after mughal emperor babur in lord ram birthplace in ayodhya will not be accepted his statement comes days after cm yogi adityanath requested the supreme court to deliver verdict in the ayodhya dispute like it did in the sabarimala temple case.\",\n          \"authorities in meghalaya east jaintia hills district on monday temporarily suspended the operations to rescue 15 miners trapped in flooded illegal coal mine we ve temporarily suspended pumping of water as the exercise didn yield any positive result district deputy commissioner fm dopth said he added that the operation will resume when more powerful pumps are made available.\",\n          \"jason roy slammed an unbeaten 91 off 53 balls as delhi daredevils secured last-ball victory against mumbai indians in the ipl 2018 on saturday with this delhi daredevils registered their first win of the season while mumbai indians suffered their third successive defeat the 195-run chase is the highest successful chase at the wankhede stadium in the ipl.\"\n        ],\n        \"semantic_type\": \"\",\n        \"description\": \"\"\n      }\n    },\n    {\n      \"column\": \"summary\",\n      \"properties\": {\n        \"dtype\": \"string\",\n        \"num_unique_values\": 49766,\n        \"samples\": [\n          \"_START_ aamir-backed furniture rental startup furlenco raises \\u00e3\\u00a2\\u00e2\\u0082\\u00e2\\u00b95 cr _END_\",\n          \"_START_ ed moves court to confiscate mallya assets worth \\u00e3\\u00a2\\u00e2\\u0082\\u00e2\\u00b912 500cr _END_\",\n          \"_START_ ex-world no fined \\u00e3\\u00a2\\u00e2\\u0082\\u00e2\\u00b96.8l for forcing partner to withdraw _END_\"\n        ],\n        \"semantic_type\": \"\",\n        \"description\": \"\"\n      }\n    }\n  ]\n}",
              "type": "dataframe",
              "variable_name": "processed_df"
            },
            "text/html": [
              "\n",
              "  <div id=\"df-07a8b1de-455b-44ab-a11f-5eac5f6dbbec\" class=\"colab-df-container\">\n",
              "    <div>\n",
              "<style scoped>\n",
              "    .dataframe tbody tr th:only-of-type {\n",
              "        vertical-align: middle;\n",
              "    }\n",
              "\n",
              "    .dataframe tbody tr th {\n",
              "        vertical-align: top;\n",
              "    }\n",
              "\n",
              "    .dataframe thead th {\n",
              "        text-align: right;\n",
              "    }\n",
              "</style>\n",
              "<table border=\"1\" class=\"dataframe\">\n",
              "  <thead>\n",
              "    <tr style=\"text-align: right;\">\n",
              "      <th></th>\n",
              "      <th>text</th>\n",
              "      <th>summary</th>\n",
              "    </tr>\n",
              "  </thead>\n",
              "  <tbody>\n",
              "    <tr>\n",
              "      <th>0</th>\n",
              "      <td>saurav kant an alumnus of upgrad and iiit-b pg...</td>\n",
              "      <td>_START_ upgrad learner switches to career in m...</td>\n",
              "    </tr>\n",
              "    <tr>\n",
              "      <th>1</th>\n",
              "      <td>kunal shah credit card bill payment platform c...</td>\n",
              "      <td>_START_ delhi techie wins free food from swigg...</td>\n",
              "    </tr>\n",
              "    <tr>\n",
              "      <th>2</th>\n",
              "      <td>new zealand defeated india by wickets in the f...</td>\n",
              "      <td>_START_ new zealand end rohit sharma-led india...</td>\n",
              "    </tr>\n",
              "    <tr>\n",
              "      <th>3</th>\n",
              "      <td>with aegon life iterm insurance plan customers...</td>\n",
              "      <td>_START_ aegon life iterm insurance plan helps ...</td>\n",
              "    </tr>\n",
              "    <tr>\n",
              "      <th>4</th>\n",
              "      <td>speaking about the sexual harassment allegatio...</td>\n",
              "      <td>_START_ have known hirani for yrs what if meto...</td>\n",
              "    </tr>\n",
              "  </tbody>\n",
              "</table>\n",
              "</div>\n",
              "    <div class=\"colab-df-buttons\">\n",
              "\n",
              "  <div class=\"colab-df-container\">\n",
              "    <button class=\"colab-df-convert\" onclick=\"convertToInteractive('df-07a8b1de-455b-44ab-a11f-5eac5f6dbbec')\"\n",
              "            title=\"Convert this dataframe to an interactive table.\"\n",
              "            style=\"display:none;\">\n",
              "\n",
              "  <svg xmlns=\"http://www.w3.org/2000/svg\" height=\"24px\" viewBox=\"0 -960 960 960\">\n",
              "    <path d=\"M120-120v-720h720v720H120Zm60-500h600v-160H180v160Zm220 220h160v-160H400v160Zm0 220h160v-160H400v160ZM180-400h160v-160H180v160Zm440 0h160v-160H620v160ZM180-180h160v-160H180v160Zm440 0h160v-160H620v160Z\"/>\n",
              "  </svg>\n",
              "    </button>\n",
              "\n",
              "  <style>\n",
              "    .colab-df-container {\n",
              "      display:flex;\n",
              "      gap: 12px;\n",
              "    }\n",
              "\n",
              "    .colab-df-convert {\n",
              "      background-color: #E8F0FE;\n",
              "      border: none;\n",
              "      border-radius: 50%;\n",
              "      cursor: pointer;\n",
              "      display: none;\n",
              "      fill: #1967D2;\n",
              "      height: 32px;\n",
              "      padding: 0 0 0 0;\n",
              "      width: 32px;\n",
              "    }\n",
              "\n",
              "    .colab-df-convert:hover {\n",
              "      background-color: #E2EBFA;\n",
              "      box-shadow: 0px 1px 2px rgba(60, 64, 67, 0.3), 0px 1px 3px 1px rgba(60, 64, 67, 0.15);\n",
              "      fill: #174EA6;\n",
              "    }\n",
              "\n",
              "    .colab-df-buttons div {\n",
              "      margin-bottom: 4px;\n",
              "    }\n",
              "\n",
              "    [theme=dark] .colab-df-convert {\n",
              "      background-color: #3B4455;\n",
              "      fill: #D2E3FC;\n",
              "    }\n",
              "\n",
              "    [theme=dark] .colab-df-convert:hover {\n",
              "      background-color: #434B5C;\n",
              "      box-shadow: 0px 1px 3px 1px rgba(0, 0, 0, 0.15);\n",
              "      filter: drop-shadow(0px 1px 2px rgba(0, 0, 0, 0.3));\n",
              "      fill: #FFFFFF;\n",
              "    }\n",
              "  </style>\n",
              "\n",
              "    <script>\n",
              "      const buttonEl =\n",
              "        document.querySelector('#df-07a8b1de-455b-44ab-a11f-5eac5f6dbbec button.colab-df-convert');\n",
              "      buttonEl.style.display =\n",
              "        google.colab.kernel.accessAllowed ? 'block' : 'none';\n",
              "\n",
              "      async function convertToInteractive(key) {\n",
              "        const element = document.querySelector('#df-07a8b1de-455b-44ab-a11f-5eac5f6dbbec');\n",
              "        const dataTable =\n",
              "          await google.colab.kernel.invokeFunction('convertToInteractive',\n",
              "                                                    [key], {});\n",
              "        if (!dataTable) return;\n",
              "\n",
              "        const docLinkHtml = 'Like what you see? Visit the ' +\n",
              "          '<a target=\"_blank\" href=https://colab.research.google.com/notebooks/data_table.ipynb>data table notebook</a>'\n",
              "          + ' to learn more about interactive tables.';\n",
              "        element.innerHTML = '';\n",
              "        dataTable['output_type'] = 'display_data';\n",
              "        await google.colab.output.renderOutput(dataTable, element);\n",
              "        const docLink = document.createElement('div');\n",
              "        docLink.innerHTML = docLinkHtml;\n",
              "        element.appendChild(docLink);\n",
              "      }\n",
              "    </script>\n",
              "  </div>\n",
              "\n",
              "\n",
              "<div id=\"df-19127fbf-f232-429f-bf08-4edb62b40074\">\n",
              "  <button class=\"colab-df-quickchart\" onclick=\"quickchart('df-19127fbf-f232-429f-bf08-4edb62b40074')\"\n",
              "            title=\"Suggest charts\"\n",
              "            style=\"display:none;\">\n",
              "\n",
              "<svg xmlns=\"http://www.w3.org/2000/svg\" height=\"24px\"viewBox=\"0 0 24 24\"\n",
              "     width=\"24px\">\n",
              "    <g>\n",
              "        <path d=\"M19 3H5c-1.1 0-2 .9-2 2v14c0 1.1.9 2 2 2h14c1.1 0 2-.9 2-2V5c0-1.1-.9-2-2-2zM9 17H7v-7h2v7zm4 0h-2V7h2v10zm4 0h-2v-4h2v4z\"/>\n",
              "    </g>\n",
              "</svg>\n",
              "  </button>\n",
              "\n",
              "<style>\n",
              "  .colab-df-quickchart {\n",
              "      --bg-color: #E8F0FE;\n",
              "      --fill-color: #1967D2;\n",
              "      --hover-bg-color: #E2EBFA;\n",
              "      --hover-fill-color: #174EA6;\n",
              "      --disabled-fill-color: #AAA;\n",
              "      --disabled-bg-color: #DDD;\n",
              "  }\n",
              "\n",
              "  [theme=dark] .colab-df-quickchart {\n",
              "      --bg-color: #3B4455;\n",
              "      --fill-color: #D2E3FC;\n",
              "      --hover-bg-color: #434B5C;\n",
              "      --hover-fill-color: #FFFFFF;\n",
              "      --disabled-bg-color: #3B4455;\n",
              "      --disabled-fill-color: #666;\n",
              "  }\n",
              "\n",
              "  .colab-df-quickchart {\n",
              "    background-color: var(--bg-color);\n",
              "    border: none;\n",
              "    border-radius: 50%;\n",
              "    cursor: pointer;\n",
              "    display: none;\n",
              "    fill: var(--fill-color);\n",
              "    height: 32px;\n",
              "    padding: 0;\n",
              "    width: 32px;\n",
              "  }\n",
              "\n",
              "  .colab-df-quickchart:hover {\n",
              "    background-color: var(--hover-bg-color);\n",
              "    box-shadow: 0 1px 2px rgba(60, 64, 67, 0.3), 0 1px 3px 1px rgba(60, 64, 67, 0.15);\n",
              "    fill: var(--button-hover-fill-color);\n",
              "  }\n",
              "\n",
              "  .colab-df-quickchart-complete:disabled,\n",
              "  .colab-df-quickchart-complete:disabled:hover {\n",
              "    background-color: var(--disabled-bg-color);\n",
              "    fill: var(--disabled-fill-color);\n",
              "    box-shadow: none;\n",
              "  }\n",
              "\n",
              "  .colab-df-spinner {\n",
              "    border: 2px solid var(--fill-color);\n",
              "    border-color: transparent;\n",
              "    border-bottom-color: var(--fill-color);\n",
              "    animation:\n",
              "      spin 1s steps(1) infinite;\n",
              "  }\n",
              "\n",
              "  @keyframes spin {\n",
              "    0% {\n",
              "      border-color: transparent;\n",
              "      border-bottom-color: var(--fill-color);\n",
              "      border-left-color: var(--fill-color);\n",
              "    }\n",
              "    20% {\n",
              "      border-color: transparent;\n",
              "      border-left-color: var(--fill-color);\n",
              "      border-top-color: var(--fill-color);\n",
              "    }\n",
              "    30% {\n",
              "      border-color: transparent;\n",
              "      border-left-color: var(--fill-color);\n",
              "      border-top-color: var(--fill-color);\n",
              "      border-right-color: var(--fill-color);\n",
              "    }\n",
              "    40% {\n",
              "      border-color: transparent;\n",
              "      border-right-color: var(--fill-color);\n",
              "      border-top-color: var(--fill-color);\n",
              "    }\n",
              "    60% {\n",
              "      border-color: transparent;\n",
              "      border-right-color: var(--fill-color);\n",
              "    }\n",
              "    80% {\n",
              "      border-color: transparent;\n",
              "      border-right-color: var(--fill-color);\n",
              "      border-bottom-color: var(--fill-color);\n",
              "    }\n",
              "    90% {\n",
              "      border-color: transparent;\n",
              "      border-bottom-color: var(--fill-color);\n",
              "    }\n",
              "  }\n",
              "</style>\n",
              "\n",
              "  <script>\n",
              "    async function quickchart(key) {\n",
              "      const quickchartButtonEl =\n",
              "        document.querySelector('#' + key + ' button');\n",
              "      quickchartButtonEl.disabled = true;  // To prevent multiple clicks.\n",
              "      quickchartButtonEl.classList.add('colab-df-spinner');\n",
              "      try {\n",
              "        const charts = await google.colab.kernel.invokeFunction(\n",
              "            'suggestCharts', [key], {});\n",
              "      } catch (error) {\n",
              "        console.error('Error during call to suggestCharts:', error);\n",
              "      }\n",
              "      quickchartButtonEl.classList.remove('colab-df-spinner');\n",
              "      quickchartButtonEl.classList.add('colab-df-quickchart-complete');\n",
              "    }\n",
              "    (() => {\n",
              "      let quickchartButtonEl =\n",
              "        document.querySelector('#df-19127fbf-f232-429f-bf08-4edb62b40074 button');\n",
              "      quickchartButtonEl.style.display =\n",
              "        google.colab.kernel.accessAllowed ? 'block' : 'none';\n",
              "    })();\n",
              "  </script>\n",
              "</div>\n",
              "\n",
              "    </div>\n",
              "  </div>\n"
            ],
            "text/plain": [
              "                                                text  \\\n",
              "0  saurav kant an alumnus of upgrad and iiit-b pg...   \n",
              "1  kunal shah credit card bill payment platform c...   \n",
              "2  new zealand defeated india by wickets in the f...   \n",
              "3  with aegon life iterm insurance plan customers...   \n",
              "4  speaking about the sexual harassment allegatio...   \n",
              "\n",
              "                                             summary  \n",
              "0  _START_ upgrad learner switches to career in m...  \n",
              "1  _START_ delhi techie wins free food from swigg...  \n",
              "2  _START_ new zealand end rohit sharma-led india...  \n",
              "3  _START_ aegon life iterm insurance plan helps ...  \n",
              "4  _START_ have known hirani for yrs what if meto...  "
            ]
          },
          "execution_count": 16,
          "metadata": {},
          "output_type": "execute_result"
        }
      ],
      "source": [
        "# Select the summaries and text which fall below the max length\n",
        "import numpy as np\n",
        "\n",
        "cleaned_text = np.array(df_processed['cleaned_text'])\n",
        "cleaned_summary = np.array(df_processed['cleaned_summary'])\n",
        "\n",
        "short_text = []\n",
        "short_summary = []\n",
        "\n",
        "for i in range(len(cleaned_text)):\n",
        "  if len(cleaned_text[i].split()) <= max_text_len and len(cleaned_summary[i].split()) <= max_summary_len:\n",
        "    short_text.append(cleaned_text[i])\n",
        "    short_summary.append(cleaned_summary[i])\n",
        "\n",
        "processed_df = pd.DataFrame()\n",
        "processed_df['text'] = short_text\n",
        "processed_df['summary'] = short_summary\n",
        "\n",
        "processed_df.head(5)"
      ]
    },
    {
      "cell_type": "code",
      "execution_count": null,
      "metadata": {
        "colab": {
          "background_save": true
        },
        "id": "ZIVfo2vUntV4",
        "outputId": "0828fc19-182e-4483-c604-e53521d5c2a8"
      },
      "outputs": [
        {
          "data": {
            "application/vnd.google.colaboratory.intrinsic+json": {
              "summary": "{\n  \"name\": \"processed_df\",\n  \"rows\": 49798,\n  \"fields\": [\n    {\n      \"column\": \"text\",\n      \"properties\": {\n        \"dtype\": \"string\",\n        \"num_unique_values\": 49796,\n        \"samples\": [\n          \"uttar pradesh deputy cm keshav prasad maurya has said structure named after mughal emperor babur in lord ram birthplace in ayodhya will not be accepted his statement comes days after cm yogi adityanath requested the supreme court to deliver verdict in the ayodhya dispute like it did in the sabarimala temple case.\",\n          \"authorities in meghalaya east jaintia hills district on monday temporarily suspended the operations to rescue 15 miners trapped in flooded illegal coal mine we ve temporarily suspended pumping of water as the exercise didn yield any positive result district deputy commissioner fm dopth said he added that the operation will resume when more powerful pumps are made available.\",\n          \"jason roy slammed an unbeaten 91 off 53 balls as delhi daredevils secured last-ball victory against mumbai indians in the ipl 2018 on saturday with this delhi daredevils registered their first win of the season while mumbai indians suffered their third successive defeat the 195-run chase is the highest successful chase at the wankhede stadium in the ipl.\"\n        ],\n        \"semantic_type\": \"\",\n        \"description\": \"\"\n      }\n    },\n    {\n      \"column\": \"summary\",\n      \"properties\": {\n        \"dtype\": \"string\",\n        \"num_unique_values\": 49766,\n        \"samples\": [\n          \"sostok _START_ aamir-backed furniture rental startup furlenco raises \\u00e3\\u00a2\\u00e2\\u0082\\u00e2\\u00b95 cr _END_ eostok\",\n          \"sostok _START_ ed moves court to confiscate mallya assets worth \\u00e3\\u00a2\\u00e2\\u0082\\u00e2\\u00b912 500cr _END_ eostok\",\n          \"sostok _START_ ex-world no fined \\u00e3\\u00a2\\u00e2\\u0082\\u00e2\\u00b96.8l for forcing partner to withdraw _END_ eostok\"\n        ],\n        \"semantic_type\": \"\",\n        \"description\": \"\"\n      }\n    }\n  ]\n}",
              "type": "dataframe",
              "variable_name": "processed_df"
            },
            "text/html": [
              "\n",
              "  <div id=\"df-fc41c2f1-1495-4584-9105-5cf9e4022db4\" class=\"colab-df-container\">\n",
              "    <div>\n",
              "<style scoped>\n",
              "    .dataframe tbody tr th:only-of-type {\n",
              "        vertical-align: middle;\n",
              "    }\n",
              "\n",
              "    .dataframe tbody tr th {\n",
              "        vertical-align: top;\n",
              "    }\n",
              "\n",
              "    .dataframe thead th {\n",
              "        text-align: right;\n",
              "    }\n",
              "</style>\n",
              "<table border=\"1\" class=\"dataframe\">\n",
              "  <thead>\n",
              "    <tr style=\"text-align: right;\">\n",
              "      <th></th>\n",
              "      <th>text</th>\n",
              "      <th>summary</th>\n",
              "    </tr>\n",
              "  </thead>\n",
              "  <tbody>\n",
              "    <tr>\n",
              "      <th>0</th>\n",
              "      <td>saurav kant an alumnus of upgrad and iiit-b pg...</td>\n",
              "      <td>sostok _START_ upgrad learner switches to care...</td>\n",
              "    </tr>\n",
              "    <tr>\n",
              "      <th>1</th>\n",
              "      <td>kunal shah credit card bill payment platform c...</td>\n",
              "      <td>sostok _START_ delhi techie wins free food fro...</td>\n",
              "    </tr>\n",
              "    <tr>\n",
              "      <th>2</th>\n",
              "      <td>new zealand defeated india by wickets in the f...</td>\n",
              "      <td>sostok _START_ new zealand end rohit sharma-le...</td>\n",
              "    </tr>\n",
              "    <tr>\n",
              "      <th>3</th>\n",
              "      <td>with aegon life iterm insurance plan customers...</td>\n",
              "      <td>sostok _START_ aegon life iterm insurance plan...</td>\n",
              "    </tr>\n",
              "    <tr>\n",
              "      <th>4</th>\n",
              "      <td>speaking about the sexual harassment allegatio...</td>\n",
              "      <td>sostok _START_ have known hirani for yrs what ...</td>\n",
              "    </tr>\n",
              "  </tbody>\n",
              "</table>\n",
              "</div>\n",
              "    <div class=\"colab-df-buttons\">\n",
              "\n",
              "  <div class=\"colab-df-container\">\n",
              "    <button class=\"colab-df-convert\" onclick=\"convertToInteractive('df-fc41c2f1-1495-4584-9105-5cf9e4022db4')\"\n",
              "            title=\"Convert this dataframe to an interactive table.\"\n",
              "            style=\"display:none;\">\n",
              "\n",
              "  <svg xmlns=\"http://www.w3.org/2000/svg\" height=\"24px\" viewBox=\"0 -960 960 960\">\n",
              "    <path d=\"M120-120v-720h720v720H120Zm60-500h600v-160H180v160Zm220 220h160v-160H400v160Zm0 220h160v-160H400v160ZM180-400h160v-160H180v160Zm440 0h160v-160H620v160ZM180-180h160v-160H180v160Zm440 0h160v-160H620v160Z\"/>\n",
              "  </svg>\n",
              "    </button>\n",
              "\n",
              "  <style>\n",
              "    .colab-df-container {\n",
              "      display:flex;\n",
              "      gap: 12px;\n",
              "    }\n",
              "\n",
              "    .colab-df-convert {\n",
              "      background-color: #E8F0FE;\n",
              "      border: none;\n",
              "      border-radius: 50%;\n",
              "      cursor: pointer;\n",
              "      display: none;\n",
              "      fill: #1967D2;\n",
              "      height: 32px;\n",
              "      padding: 0 0 0 0;\n",
              "      width: 32px;\n",
              "    }\n",
              "\n",
              "    .colab-df-convert:hover {\n",
              "      background-color: #E2EBFA;\n",
              "      box-shadow: 0px 1px 2px rgba(60, 64, 67, 0.3), 0px 1px 3px 1px rgba(60, 64, 67, 0.15);\n",
              "      fill: #174EA6;\n",
              "    }\n",
              "\n",
              "    .colab-df-buttons div {\n",
              "      margin-bottom: 4px;\n",
              "    }\n",
              "\n",
              "    [theme=dark] .colab-df-convert {\n",
              "      background-color: #3B4455;\n",
              "      fill: #D2E3FC;\n",
              "    }\n",
              "\n",
              "    [theme=dark] .colab-df-convert:hover {\n",
              "      background-color: #434B5C;\n",
              "      box-shadow: 0px 1px 3px 1px rgba(0, 0, 0, 0.15);\n",
              "      filter: drop-shadow(0px 1px 2px rgba(0, 0, 0, 0.3));\n",
              "      fill: #FFFFFF;\n",
              "    }\n",
              "  </style>\n",
              "\n",
              "    <script>\n",
              "      const buttonEl =\n",
              "        document.querySelector('#df-fc41c2f1-1495-4584-9105-5cf9e4022db4 button.colab-df-convert');\n",
              "      buttonEl.style.display =\n",
              "        google.colab.kernel.accessAllowed ? 'block' : 'none';\n",
              "\n",
              "      async function convertToInteractive(key) {\n",
              "        const element = document.querySelector('#df-fc41c2f1-1495-4584-9105-5cf9e4022db4');\n",
              "        const dataTable =\n",
              "          await google.colab.kernel.invokeFunction('convertToInteractive',\n",
              "                                                    [key], {});\n",
              "        if (!dataTable) return;\n",
              "\n",
              "        const docLinkHtml = 'Like what you see? Visit the ' +\n",
              "          '<a target=\"_blank\" href=https://colab.research.google.com/notebooks/data_table.ipynb>data table notebook</a>'\n",
              "          + ' to learn more about interactive tables.';\n",
              "        element.innerHTML = '';\n",
              "        dataTable['output_type'] = 'display_data';\n",
              "        await google.colab.output.renderOutput(dataTable, element);\n",
              "        const docLink = document.createElement('div');\n",
              "        docLink.innerHTML = docLinkHtml;\n",
              "        element.appendChild(docLink);\n",
              "      }\n",
              "    </script>\n",
              "  </div>\n",
              "\n",
              "\n",
              "<div id=\"df-d9e7a367-9a69-462e-907b-dd745265c6b2\">\n",
              "  <button class=\"colab-df-quickchart\" onclick=\"quickchart('df-d9e7a367-9a69-462e-907b-dd745265c6b2')\"\n",
              "            title=\"Suggest charts\"\n",
              "            style=\"display:none;\">\n",
              "\n",
              "<svg xmlns=\"http://www.w3.org/2000/svg\" height=\"24px\"viewBox=\"0 0 24 24\"\n",
              "     width=\"24px\">\n",
              "    <g>\n",
              "        <path d=\"M19 3H5c-1.1 0-2 .9-2 2v14c0 1.1.9 2 2 2h14c1.1 0 2-.9 2-2V5c0-1.1-.9-2-2-2zM9 17H7v-7h2v7zm4 0h-2V7h2v10zm4 0h-2v-4h2v4z\"/>\n",
              "    </g>\n",
              "</svg>\n",
              "  </button>\n",
              "\n",
              "<style>\n",
              "  .colab-df-quickchart {\n",
              "      --bg-color: #E8F0FE;\n",
              "      --fill-color: #1967D2;\n",
              "      --hover-bg-color: #E2EBFA;\n",
              "      --hover-fill-color: #174EA6;\n",
              "      --disabled-fill-color: #AAA;\n",
              "      --disabled-bg-color: #DDD;\n",
              "  }\n",
              "\n",
              "  [theme=dark] .colab-df-quickchart {\n",
              "      --bg-color: #3B4455;\n",
              "      --fill-color: #D2E3FC;\n",
              "      --hover-bg-color: #434B5C;\n",
              "      --hover-fill-color: #FFFFFF;\n",
              "      --disabled-bg-color: #3B4455;\n",
              "      --disabled-fill-color: #666;\n",
              "  }\n",
              "\n",
              "  .colab-df-quickchart {\n",
              "    background-color: var(--bg-color);\n",
              "    border: none;\n",
              "    border-radius: 50%;\n",
              "    cursor: pointer;\n",
              "    display: none;\n",
              "    fill: var(--fill-color);\n",
              "    height: 32px;\n",
              "    padding: 0;\n",
              "    width: 32px;\n",
              "  }\n",
              "\n",
              "  .colab-df-quickchart:hover {\n",
              "    background-color: var(--hover-bg-color);\n",
              "    box-shadow: 0 1px 2px rgba(60, 64, 67, 0.3), 0 1px 3px 1px rgba(60, 64, 67, 0.15);\n",
              "    fill: var(--button-hover-fill-color);\n",
              "  }\n",
              "\n",
              "  .colab-df-quickchart-complete:disabled,\n",
              "  .colab-df-quickchart-complete:disabled:hover {\n",
              "    background-color: var(--disabled-bg-color);\n",
              "    fill: var(--disabled-fill-color);\n",
              "    box-shadow: none;\n",
              "  }\n",
              "\n",
              "  .colab-df-spinner {\n",
              "    border: 2px solid var(--fill-color);\n",
              "    border-color: transparent;\n",
              "    border-bottom-color: var(--fill-color);\n",
              "    animation:\n",
              "      spin 1s steps(1) infinite;\n",
              "  }\n",
              "\n",
              "  @keyframes spin {\n",
              "    0% {\n",
              "      border-color: transparent;\n",
              "      border-bottom-color: var(--fill-color);\n",
              "      border-left-color: var(--fill-color);\n",
              "    }\n",
              "    20% {\n",
              "      border-color: transparent;\n",
              "      border-left-color: var(--fill-color);\n",
              "      border-top-color: var(--fill-color);\n",
              "    }\n",
              "    30% {\n",
              "      border-color: transparent;\n",
              "      border-left-color: var(--fill-color);\n",
              "      border-top-color: var(--fill-color);\n",
              "      border-right-color: var(--fill-color);\n",
              "    }\n",
              "    40% {\n",
              "      border-color: transparent;\n",
              "      border-right-color: var(--fill-color);\n",
              "      border-top-color: var(--fill-color);\n",
              "    }\n",
              "    60% {\n",
              "      border-color: transparent;\n",
              "      border-right-color: var(--fill-color);\n",
              "    }\n",
              "    80% {\n",
              "      border-color: transparent;\n",
              "      border-right-color: var(--fill-color);\n",
              "      border-bottom-color: var(--fill-color);\n",
              "    }\n",
              "    90% {\n",
              "      border-color: transparent;\n",
              "      border-bottom-color: var(--fill-color);\n",
              "    }\n",
              "  }\n",
              "</style>\n",
              "\n",
              "  <script>\n",
              "    async function quickchart(key) {\n",
              "      const quickchartButtonEl =\n",
              "        document.querySelector('#' + key + ' button');\n",
              "      quickchartButtonEl.disabled = true;  // To prevent multiple clicks.\n",
              "      quickchartButtonEl.classList.add('colab-df-spinner');\n",
              "      try {\n",
              "        const charts = await google.colab.kernel.invokeFunction(\n",
              "            'suggestCharts', [key], {});\n",
              "      } catch (error) {\n",
              "        console.error('Error during call to suggestCharts:', error);\n",
              "      }\n",
              "      quickchartButtonEl.classList.remove('colab-df-spinner');\n",
              "      quickchartButtonEl.classList.add('colab-df-quickchart-complete');\n",
              "    }\n",
              "    (() => {\n",
              "      let quickchartButtonEl =\n",
              "        document.querySelector('#df-d9e7a367-9a69-462e-907b-dd745265c6b2 button');\n",
              "      quickchartButtonEl.style.display =\n",
              "        google.colab.kernel.accessAllowed ? 'block' : 'none';\n",
              "    })();\n",
              "  </script>\n",
              "</div>\n",
              "\n",
              "    </div>\n",
              "  </div>\n"
            ],
            "text/plain": [
              "                                                text  \\\n",
              "0  saurav kant an alumnus of upgrad and iiit-b pg...   \n",
              "1  kunal shah credit card bill payment platform c...   \n",
              "2  new zealand defeated india by wickets in the f...   \n",
              "3  with aegon life iterm insurance plan customers...   \n",
              "4  speaking about the sexual harassment allegatio...   \n",
              "\n",
              "                                             summary  \n",
              "0  sostok _START_ upgrad learner switches to care...  \n",
              "1  sostok _START_ delhi techie wins free food fro...  \n",
              "2  sostok _START_ new zealand end rohit sharma-le...  \n",
              "3  sostok _START_ aegon life iterm insurance plan...  \n",
              "4  sostok _START_ have known hirani for yrs what ...  "
            ]
          },
          "execution_count": 17,
          "metadata": {},
          "output_type": "execute_result"
        }
      ],
      "source": [
        "# Both sostok and eostok along with START and END are added to make a unique\n",
        "# combination to identify start and end of summary\n",
        "\n",
        "processed_df['summary'] = processed_df['summary'].apply(lambda x: 'sostok ' + x + ' eostok')\n",
        "processed_df.head(5)"
      ]
    },
    {
      "cell_type": "code",
      "execution_count": null,
      "metadata": {
        "colab": {
          "background_save": true
        },
        "id": "ziZsaZfcpPaK"
      },
      "outputs": [],
      "source": [
        "from sklearn.model_selection import train_test_split\n",
        "\n",
        "X_train, X_validation, Y_train, Y_validation = train_test_split(np.array(processed_df[\"text\"]), np.array(processed_df[\"summary\"]), test_size=0.1, random_state=0, shuffle=True)"
      ]
    },
    {
      "cell_type": "code",
      "execution_count": null,
      "metadata": {
        "colab": {
          "background_save": true
        },
        "id": "ukvZMHiIjZom"
      },
      "outputs": [],
      "source": [
        "# Token sentences\n",
        "from tensorflow.keras.preprocessing.text import Tokenizer\n",
        "from tensorflow.keras.preprocessing.sequence import pad_sequences\n",
        "\n",
        "X_tokenizer = Tokenizer()\n",
        "X_tokenizer.fit_on_texts(list(X_train))"
      ]
    },
    {
      "cell_type": "code",
      "execution_count": null,
      "metadata": {
        "colab": {
          "background_save": true
        },
        "id": "9wVpnFOBkREH",
        "outputId": "7c1dd652-fd3e-438d-e220-e33862a89daf"
      },
      "outputs": [
        {
          "name": "stdout",
          "output_type": "stream",
          "text": [
            "Percentage of rare words:  2.354162456345279\n"
          ]
        }
      ],
      "source": [
        "# Find rare words in the text and their percentage\n",
        "threshhold = 5\n",
        "\n",
        "count = 0\n",
        "total_count = 0\n",
        "\n",
        "for key, value in X_tokenizer.word_counts.items():\n",
        "  total_count += value\n",
        "  if value < threshhold:\n",
        "    count += value\n",
        "\n",
        "print(\"Percentage of rare words: \", count/total_count*100)"
      ]
    },
    {
      "cell_type": "code",
      "execution_count": null,
      "metadata": {
        "colab": {
          "background_save": true
        },
        "id": "HpcsVHA8kzwZ",
        "outputId": "23f3fab8-3f00-452a-a5d2-09870976f74c"
      },
      "outputs": [
        {
          "name": "stdout",
          "output_type": "stream",
          "text": [
            "Size of vocabulary:  2546291\n"
          ]
        }
      ],
      "source": [
        "# Tokenize again by not considering rare words\n",
        "X_tokenizer = Tokenizer(num_words = total_count - count)\n",
        "X_tokenizer.fit_on_texts(list(X_train))\n",
        "\n",
        "# Convert text to integers\n",
        "X_train_sequence = X_tokenizer.texts_to_sequences(X_train)\n",
        "X_validation_sequence = X_tokenizer.texts_to_sequences(X_validation)\n",
        "\n",
        "# Padding\n",
        "X_train = pad_sequences(X_train_sequence,  maxlen=max_text_len, padding='post')\n",
        "x_val = pad_sequences(X_validation_sequence, maxlen=max_text_len, padding='post')\n",
        "\n",
        "X_vocabulary = X_tokenizer.num_words + 1\n",
        "\n",
        "print(\"Size of vocabulary: \", X_vocabulary)"
      ]
    },
    {
      "cell_type": "code",
      "execution_count": null,
      "metadata": {
        "colab": {
          "background_save": true
        },
        "id": "vl0bIRPctEUh"
      },
      "outputs": [],
      "source": [
        "Y_tokenizer = Tokenizer()\n",
        "Y_tokenizer.fit_on_texts(list(Y_train))"
      ]
    },
    {
      "cell_type": "code",
      "execution_count": null,
      "metadata": {
        "colab": {
          "background_save": true
        },
        "id": "6_nF7x9Rt0Mm",
        "outputId": "5ffcefd1-904d-413d-c535-ac8f1a442cd1"
      },
      "outputs": [
        {
          "name": "stdout",
          "output_type": "stream",
          "text": [
            "Percentage of rare words:  4.6013316987572415\n"
          ]
        }
      ],
      "source": [
        "threshhold = 5\n",
        "\n",
        "count = 0\n",
        "total_count = 0\n",
        "\n",
        "for key, value in Y_tokenizer.word_counts.items():\n",
        "  total_count += value\n",
        "  if value < threshhold:\n",
        "    count += value\n",
        "\n",
        "print(\"Percentage of rare words: \", count/total_count*100)"
      ]
    },
    {
      "cell_type": "code",
      "execution_count": null,
      "metadata": {
        "colab": {
          "background_save": true
        },
        "id": "BxxngnSyt6Lq",
        "outputId": "38f1f51a-03de-416e-ca04-c76b3feab55f"
      },
      "outputs": [
        {
          "name": "stdout",
          "output_type": "stream",
          "text": [
            "Size of vocabulary:  595303\n"
          ]
        }
      ],
      "source": [
        "Y_tokenizer = Tokenizer(num_words=total_count-count)\n",
        "Y_tokenizer.fit_on_texts(list(Y_train))\n",
        "\n",
        "# Convert text sequences to integer sequences\n",
        "Y_train_seqeunce = Y_tokenizer.texts_to_sequences(Y_train)\n",
        "Y_validation_sequence = Y_tokenizer.texts_to_sequences(Y_validation)\n",
        "\n",
        "# Pad zero upto maximum length\n",
        "y_train = pad_sequences(Y_train_seqeunce, maxlen=max_summary_len, padding='post')\n",
        "y_val = pad_sequences(Y_validation_sequence, maxlen=max_summary_len, padding='post')\n",
        "\n",
        "# Size of vocabulary (+1 for padding token)\n",
        "Y_vocabulary = Y_tokenizer.num_words + 1\n",
        "\n",
        "print(\"Size of vocabulary: \", Y_vocabulary)"
      ]
    },
    {
      "cell_type": "markdown",
      "metadata": {
        "id": "F1_vI3RUzis8"
      },
      "source": [
        "<h5>Define Model</h5>"
      ]
    },
    {
      "cell_type": "code",
      "execution_count": null,
      "metadata": {
        "colab": {
          "background_save": true
        },
        "id": "td2DlOTgzr9y"
      },
      "outputs": [],
      "source": [
        "from tensorflow.keras.preprocessing.text import Tokenizer\n",
        "from tensorflow.keras.preprocessing.sequence import pad_sequences\n",
        "from tensorflow.keras.layers import Input, LSTM, Embedding, Dense, Concatenate, TimeDistributed\n",
        "from tensorflow.keras.models import Model\n",
        "from tensorflow.keras.callbacks import EarlyStopping"
      ]
    },
    {
      "cell_type": "code",
      "execution_count": null,
      "metadata": {
        "colab": {
          "background_save": true
        },
        "id": "W06dkHfAxZW8",
        "outputId": "3e5bab7b-8fb6-4e4b-de63-fd4500e3d627"
      },
      "outputs": [
        {
          "name": "stderr",
          "output_type": "stream",
          "text": [
            "WARNING:tensorflow:Layer lstm will not use cuDNN kernels since it doesn't meet the criteria. It will use a generic GPU kernel as fallback when running on GPU.\n",
            "WARNING:tensorflow:Layer lstm_1 will not use cuDNN kernels since it doesn't meet the criteria. It will use a generic GPU kernel as fallback when running on GPU.\n",
            "WARNING:tensorflow:Layer lstm_2 will not use cuDNN kernels since it doesn't meet the criteria. It will use a generic GPU kernel as fallback when running on GPU.\n",
            "WARNING:tensorflow:Layer lstm_3 will not use cuDNN kernels since it doesn't meet the criteria. It will use a generic GPU kernel as fallback when running on GPU.\n"
          ]
        },
        {
          "name": "stdout",
          "output_type": "stream",
          "text": [
            "Model: \"model\"\n",
            "__________________________________________________________________________________________________\n",
            " Layer (type)                Output Shape                 Param #   Connected to                  \n",
            "==================================================================================================\n",
            " input_1 (InputLayer)        [(None, 70)]                 0         []                            \n",
            "                                                                                                  \n",
            " embedding (Embedding)       (None, 70, 200)              5092582   ['input_1[0][0]']             \n",
            "                                                          00                                      \n",
            "                                                                                                  \n",
            " lstm (LSTM)                 [(None, 70, 300),            601200    ['embedding[0][0]']           \n",
            "                              (None, 300),                                                        \n",
            "                              (None, 300)]                                                        \n",
            "                                                                                                  \n",
            " input_2 (InputLayer)        [(None, None)]               0         []                            \n",
            "                                                                                                  \n",
            " lstm_1 (LSTM)               [(None, 70, 300),            721200    ['lstm[0][0]']                \n",
            "                              (None, 300),                                                        \n",
            "                              (None, 300)]                                                        \n",
            "                                                                                                  \n",
            " embedding_1 (Embedding)     (None, None, 200)            1190606   ['input_2[0][0]']             \n",
            "                                                          00                                      \n",
            "                                                                                                  \n",
            " lstm_2 (LSTM)               [(None, 70, 300),            721200    ['lstm_1[0][0]']              \n",
            "                              (None, 300),                                                        \n",
            "                              (None, 300)]                                                        \n",
            "                                                                                                  \n",
            " lstm_3 (LSTM)               [(None, None, 300),          601200    ['embedding_1[0][0]',         \n",
            "                              (None, 300),                           'lstm_2[0][1]',              \n",
            "                              (None, 300)]                           'lstm_2[0][2]']              \n",
            "                                                                                                  \n",
            " time_distributed (TimeDist  (None, None, 595303)         1791862   ['lstm_3[0][0]']              \n",
            " ributed)                                                 03                                      \n",
            "                                                                                                  \n",
            "==================================================================================================\n",
            "Total params: 810149803 (3.02 GB)\n",
            "Trainable params: 810149803 (3.02 GB)\n",
            "Non-trainable params: 0 (0.00 Byte)\n",
            "__________________________________________________________________________________________________\n"
          ]
        }
      ],
      "source": [
        "latent_dim = 300\n",
        "embedding_dim = 200\n",
        "\n",
        "# Encoder\n",
        "encoder_inputs = Input(shape=(max_text_len, ))\n",
        "\n",
        "# Embedding layer\n",
        "enc_emb = Embedding(X_vocabulary, embedding_dim,\n",
        "                    trainable=True)(encoder_inputs)\n",
        "\n",
        "# Encoder LSTM 1\n",
        "encoder_lstm1 = LSTM(latent_dim, return_sequences=True,\n",
        "                     return_state=True, dropout=0.4,\n",
        "                     recurrent_dropout=0.4)\n",
        "(encoder_output1, state_h1, state_c1) = encoder_lstm1(enc_emb)\n",
        "\n",
        "# Encoder LSTM 2\n",
        "encoder_lstm2 = LSTM(latent_dim, return_sequences=True,\n",
        "                     return_state=True, dropout=0.4,\n",
        "                     recurrent_dropout=0.4)\n",
        "(encoder_output2, state_h2, state_c2) = encoder_lstm2(encoder_output1)\n",
        "\n",
        "# Encoder LSTM 3\n",
        "encoder_lstm3 = LSTM(latent_dim, return_state=True,\n",
        "                     return_sequences=True, dropout=0.4,\n",
        "                     recurrent_dropout=0.4)\n",
        "(encoder_outputs, state_h, state_c) = encoder_lstm3(encoder_output2)\n",
        "\n",
        "# Set up the decoder, using encoder_states as the initial state\n",
        "decoder_inputs = Input(shape=(None, ))\n",
        "\n",
        "# Embedding layer\n",
        "dec_emb_layer = Embedding(Y_vocabulary, embedding_dim, trainable=True)\n",
        "dec_emb = dec_emb_layer(decoder_inputs)\n",
        "\n",
        "# Decoder LSTM\n",
        "decoder_lstm = LSTM(latent_dim, return_sequences=True,\n",
        "                    return_state=True, dropout=0.4,\n",
        "                    recurrent_dropout=0.2)\n",
        "(decoder_outputs, decoder_fwd_state, decoder_back_state) = \\\n",
        "    decoder_lstm(dec_emb, initial_state=[state_h, state_c])\n",
        "\n",
        "# Dense layer\n",
        "decoder_dense = TimeDistributed(Dense(Y_vocabulary, activation='softmax'))\n",
        "decoder_outputs = decoder_dense(decoder_outputs)\n",
        "\n",
        "# Define the model\n",
        "model = Model([encoder_inputs, decoder_inputs], decoder_outputs)\n",
        "\n",
        "model.summary()"
      ]
    },
    {
      "cell_type": "code",
      "execution_count": null,
      "metadata": {
        "colab": {
          "background_save": true
        },
        "id": "5bQZO7o4z03O"
      },
      "outputs": [],
      "source": [
        "model.compile(optimizer='rmsprop', loss='sparse_categorical_crossentropy')\n",
        "\n",
        "es = EarlyStopping(monitor='val_loss', mode='min', verbose=1, patience=2)"
      ]
    },
    {
      "cell_type": "code",
      "execution_count": null,
      "metadata": {
        "colab": {
          "background_save": true
        },
        "id": "2b6ocnGT7d9A"
      },
      "outputs": [],
      "source": [
        "history = model.fit(\n",
        "    [X_train, Y_train[:, :-1]],\n",
        "    Y_train.reshape(Y_train.shape[0], Y_train.shape[1], 1)[:, 1:],\n",
        "    epochs=50,\n",
        "    callbacks=[es],\n",
        "    batch_size=128,\n",
        "    validation_data=([x_val, y_val[:, :-1]],\n",
        "                     y_val.reshape(y_val.shape[0], y_val.shape[1], 1)[:\n",
        "                     , 1:]),\n",
        "    )"
      ]
    },
    {
      "cell_type": "code",
      "execution_count": null,
      "metadata": {
        "id": "C8oy_bAGDkGS"
      },
      "outputs": [],
      "source": [
        "from matplotlib import pyplot\n",
        "\n",
        "pyplot.plot(history.history['loss'], label='train')\n",
        "pyplot.plot(history.history['val_loss'], label='test')\n",
        "pyplot.legend()\n",
        "pyplot.show()"
      ]
    },
    {
      "cell_type": "markdown",
      "source": [
        "![Acc.png](data:image/png;base64,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)"
      ],
      "metadata": {
        "id": "QF2lkUWe38NC"
      }
    },
    {
      "cell_type": "code",
      "source": [
        "reverse_target_word_index = y_tokenizer.index_word\n",
        "reverse_source_word_index = x_tokenizer.index_word\n",
        "target_word_index = y_tokenizer.word_index"
      ],
      "metadata": {
        "id": "8mNFysMw3Whu"
      },
      "execution_count": null,
      "outputs": []
    },
    {
      "cell_type": "code",
      "source": [
        "# Inference Models\n",
        "\n",
        "# Encode the input sequence to get the feature vector\n",
        "encoder_model = Model(inputs=encoder_inputs, outputs=[encoder_outputs,\n",
        "                      state_h, state_c])\n",
        "\n",
        "# Decoder setup\n",
        "\n",
        "# Below tensors will hold the states of the previous time step\n",
        "decoder_state_input_h = Input(shape=(latent_dim, ))\n",
        "decoder_state_input_c = Input(shape=(latent_dim, ))\n",
        "decoder_hidden_state_input = Input(shape=(max_text_len, latent_dim))\n",
        "\n",
        "# Get the embeddings of the decoder sequence\n",
        "dec_emb2 = dec_emb_layer(decoder_inputs)\n",
        "\n",
        "# To predict the next word in the sequence, set the initial states to the states from the previous time step\n",
        "(decoder_outputs2, state_h2, state_c2) = decoder_lstm(dec_emb2,\n",
        "        initial_state=[decoder_state_input_h, decoder_state_input_c])\n",
        "\n",
        "# A dense softmax layer to generate prob dist. over the target vocabulary\n",
        "decoder_outputs2 = decoder_dense(decoder_outputs2)\n",
        "\n",
        "# Final decoder model\n",
        "decoder_model = Model([decoder_inputs] + [decoder_hidden_state_input,\n",
        "                      decoder_state_input_h, decoder_state_input_c],\n",
        "                      [decoder_outputs2] + [state_h2, state_c2])"
      ],
      "metadata": {
        "id": "UbYjyn_B3XOi"
      },
      "execution_count": null,
      "outputs": []
    },
    {
      "cell_type": "code",
      "source": [
        "def decode_sequence(input_seq):\n",
        "\n",
        "    # Encode the input as state vectors.\n",
        "    (e_out, e_h, e_c) = encoder_model.predict(input_seq)\n",
        "\n",
        "    # Generate empty target sequence of length 1\n",
        "    target_seq = np.zeros((1, 1))\n",
        "\n",
        "    # Populate the first word of target sequence with the start word.\n",
        "    target_seq[0, 0] = target_word_index['sostok']\n",
        "\n",
        "    stop_condition = False\n",
        "    decoded_sentence = ''\n",
        "\n",
        "    while not stop_condition:\n",
        "        (output_tokens, h, c) = decoder_model.predict([target_seq]\n",
        "                + [e_out, e_h, e_c])\n",
        "\n",
        "        # Sample a token\n",
        "        sampled_token_index = np.argmax(output_tokens[0, -1, :])\n",
        "        sampled_token = reverse_target_word_index[sampled_token_index]\n",
        "\n",
        "        if sampled_token != 'eostok':\n",
        "            decoded_sentence += ' ' + sampled_token\n",
        "\n",
        "        # Exit condition: either hit max length or find the stop word.\n",
        "        if sampled_token == 'eostok' or len(decoded_sentence.split()) \\\n",
        "            >= max_summary_len - 1:\n",
        "            stop_condition = True\n",
        "\n",
        "        # Update the target sequence (of length 1)\n",
        "        target_seq = np.zeros((1, 1))\n",
        "        target_seq[0, 0] = sampled_token_index\n",
        "\n",
        "        # Update internal states\n",
        "        (e_h, e_c) = (h, c)\n",
        "\n",
        "    return decoded_sentence"
      ],
      "metadata": {
        "id": "uB9HJS6Y3doU"
      },
      "execution_count": null,
      "outputs": []
    },
    {
      "cell_type": "code",
      "source": [
        "# To convert sequence to summary\n",
        "def seq2summary(input_seq):\n",
        "    newString = ''\n",
        "    for i in input_seq:\n",
        "        if i != 0 and i != target_word_index['sostok'] and i \\\n",
        "            != target_word_index['eostok']:\n",
        "            newString = newString + reverse_target_word_index[i] + ' '\n",
        "\n",
        "    return newString\n",
        "\n",
        "\n",
        "# To convert sequence to text\n",
        "def seq2text(input_seq):\n",
        "    newString = ''\n",
        "    for i in input_seq:\n",
        "        if i != 0:\n",
        "            newString = newString + reverse_source_word_index[i] + ' '\n",
        "\n",
        "    return newString"
      ],
      "metadata": {
        "id": "2wRfbq9Y3edA"
      },
      "execution_count": null,
      "outputs": []
    },
    {
      "cell_type": "code",
      "source": [
        "for i in range(0, 19):\n",
        "    print ('Review:', seq2text(x_tr[i]))\n",
        "    print ('Original summary:', seq2summary(y_tr[i]))\n",
        "    print ('Predicted summary:', decode_sequence(x_tr[i].reshape(1,\n",
        "           max_text_len)))\n",
        "    print '\\n'"
      ],
      "metadata": {
        "id": "QU1Q0FIU3hQz"
      },
      "execution_count": null,
      "outputs": []
    },
    {
      "cell_type": "markdown",
      "source": [
        "Few Summaries\n",
        "\n",
        "# Output\n",
        "Review: us president donald trump on wednesday said that north korea has returned the remains of 200 us troops missing from the korean war although there was no official confirmation from military authorities north korean leader kim jong un had agreed to return the remains during his summit with trump about 700 us troops remain unaccounted from the 1950 1953 korean war\n",
        "Original summary: start n korea has returned remains of 200 us war dead trump end\n",
        "Predicted summary:  start n korea has lost an war against us trump end\n",
        "\n",
        "Review: pope francis has said that history will judge those who refuse to accept the science of climate change if someone is doubtful that climate change is true they should ask scientists the pope added notably us president donald trump who believes global warming is chinese conspiracy withdrew the country from the paris climate agreement\n",
        "Original summary: start history will judge those denying climate change pope end\n",
        "Predicted summary:  start pope francis will be in paris climate deal prez end\n",
        "\n",
        "Review: the enforcement directorate ed has attached assets worth over ã¢ââ¹33 500 crore in the over three year tenure of its chief karnal singh who retires sunday officials said the agency filed around 390 in connection with its money laundering probes during the period the government on saturday appointed indian revenue service irs officer sanjay kumar mishra as interim ed chief\n",
        "Original summary: start enforcement attached assets worth ã¢ââ¹33 500 cr in yrs end\n",
        "Predicted summary:  start ed attaches assets worth 100 crore in india in days end"
      ],
      "metadata": {
        "id": "aCZLUqc63jAF"
      }
    }
  ],
  "metadata": {
    "accelerator": "GPU",
    "colab": {
      "gpuType": "T4",
      "provenance": []
    },
    "kernelspec": {
      "display_name": "Python 3",
      "name": "python3"
    },
    "language_info": {
      "name": "python"
    }
  },
  "nbformat": 4,
  "nbformat_minor": 0
}